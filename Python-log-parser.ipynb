{
 "cells": [
  {
   "cell_type": "code",
   "execution_count": 56,
   "metadata": {},
   "outputs": [
    {
     "name": "stdout",
     "output_type": "stream",
     "text": [
      "Enter the error to search: Broken\n",
      "Broken\n",
      "1\n",
      "Broken\n",
      "2\n"
     ]
    }
   ],
   "source": [
    "#importing regular expression package\n",
    "import re\n",
    "\n",
    "# defining log file path on your pc\n",
    "log_file_path = r\"C:\\Users\\dtawade\\zfscsv\\newpython.txt\"\n",
    "\n",
    "#asking user to enter the error string to search\n",
    "expression_to_search = input(\"Enter the error to search: \")\n",
    "\n",
    "#regex = '(java.net.SocketException)'\n",
    "\n",
    "#regex = expression_to_search \n",
    "match_list = []\n",
    "with open(log_file_path, \"r\") as file:\n",
    "    for line in file:\n",
    "        for match in re.finditer(expression_to_search, line, re.S):\n",
    "            match_text = match.group()\n",
    "            match_list.append(match_text)\n",
    "            print (match_text)\n",
    "            print (match_list.count(expression_to_search))"
   ]
  },
  {
   "cell_type": "code",
   "execution_count": 31,
   "metadata": {},
   "outputs": [
    {
     "ename": "TypeError",
     "evalue": "count() takes exactly one argument (0 given)",
     "output_type": "error",
     "traceback": [
      "\u001b[1;31m---------------------------------------------------------------------------\u001b[0m",
      "\u001b[1;31mTypeError\u001b[0m                                 Traceback (most recent call last)",
      "\u001b[1;32m<ipython-input-31-f7c2ab400874>\u001b[0m in \u001b[0;36m<module>\u001b[1;34m()\u001b[0m\n\u001b[1;32m----> 1\u001b[1;33m \u001b[0mprint\u001b[0m \u001b[1;33m(\u001b[0m\u001b[0mmatch_list\u001b[0m\u001b[1;33m.\u001b[0m\u001b[0mcount\u001b[0m\u001b[1;33m(\u001b[0m\u001b[1;33m)\u001b[0m\u001b[1;33m)\u001b[0m\u001b[1;33m\u001b[0m\u001b[0m\n\u001b[0m",
      "\u001b[1;31mTypeError\u001b[0m: count() takes exactly one argument (0 given)"
     ]
    }
   ],
   "source": [
    "print (match_list.count())"
   ]
  },
  {
   "cell_type": "code",
   "execution_count": 22,
   "metadata": {},
   "outputs": [
    {
     "data": {
      "text/plain": [
       "['java.net.SocketException', 'java.net.SocketException']"
      ]
     },
     "execution_count": 22,
     "metadata": {},
     "output_type": "execute_result"
    }
   ],
   "source": [
    "match_list\n"
   ]
  },
  {
   "cell_type": "code",
   "execution_count": 4,
   "metadata": {},
   "outputs": [
    {
     "name": "stdout",
     "output_type": "stream",
     "text": [
      "Search unsuccessful.\n"
     ]
    }
   ],
   "source": [
    "import re\n",
    "\n",
    "pattern = '^Connection reset$'\n",
    "test_string = 'Connection reset'\n",
    "result = re.match(pattern, test_string)\n",
    "\n",
    "if result:\n",
    "  print(\"Search successful.\")\n",
    "else:\n",
    "  print(\"Search unsuccessful.\")"
   ]
  },
  {
   "cell_type": "code",
   "execution_count": 49,
   "metadata": {},
   "outputs": [
    {
     "name": "stdout",
     "output_type": "stream",
     "text": [
      "Enter the log file path and name: C:\\Users\\dtawade\\zfscsv\\newpython.txt\n",
      "C:\\Users\\dtawade\\zfscsv\\newpython.txt\n",
      "r\"C:\\Users\\dtawade\\zfscsv\\newpython.txt\"\n"
     ]
    }
   ],
   "source": [
    "log_file_name = input (\"Enter the log file path and name: \")\n",
    "print (log_file_name)\n",
    "\n",
    "path = 'r\"' + log_file_name + '\"'\n",
    "\n",
    "print (path)"
   ]
  },
  {
   "cell_type": "code",
   "execution_count": 40,
   "metadata": {},
   "outputs": [
    {
     "ename": "SyntaxError",
     "evalue": "invalid syntax (<ipython-input-40-72237a24fc49>, line 1)",
     "output_type": "error",
     "traceback": [
      "\u001b[1;36m  File \u001b[1;32m\"<ipython-input-40-72237a24fc49>\"\u001b[1;36m, line \u001b[1;32m1\u001b[0m\n\u001b[1;33m    print r||(log_file_name)\u001b[0m\n\u001b[1;37m          ^\u001b[0m\n\u001b[1;31mSyntaxError\u001b[0m\u001b[1;31m:\u001b[0m invalid syntax\n"
     ]
    }
   ],
   "source": []
  },
  {
   "cell_type": "code",
   "execution_count": 78,
   "metadata": {},
   "outputs": [
    {
     "name": "stdout",
     "output_type": "stream",
     "text": [
      "Enter the log file path and name: C:\\Users\\dtawade\\zfscsv\\newpython.txt\n",
      "Enter the error to search: Broken pipe\n",
      "Broken pipe\n",
      "1\n",
      "Broken pipe\n",
      "2\n"
     ]
    }
   ],
   "source": [
    "# FINAL WORKING PROGRAM WHICH ASKS USER FOR PATH AND FILE NAME\n",
    "# FOR WINDOWS ENTER PATH C:/MYDOCUMENTS.... INSTEAD OF C:\\MYDOCUMENTS\n",
    "\n",
    "#importing regular expression package\n",
    "import re\n",
    "#asking user to give full path name and file name\n",
    "log_file_name = input (\"Enter the log file path and name: \")\n",
    "\n",
    "expression_to_search = input(\"Enter the error to search: \")\n",
    "\n",
    "match_array = []\n",
    "with open(log_file_name, \"r\") as file:\n",
    "    for line in file:\n",
    "        for match in re.finditer(expression_to_search, line, re.S):\n",
    "            match_text = match.group()\n",
    "            match_array.append(match_text)\n",
    "            print (match_text)\n",
    "            print (match_array.count(expression_to_search))\n",
    "\n"
   ]
  },
  {
   "cell_type": "code",
   "execution_count": 73,
   "metadata": {},
   "outputs": [
    {
     "name": "stdout",
     "output_type": "stream",
     "text": [
      "Enter the log file path and name: C:\\Users\\dtawade\\zfscsv\\newpython.txt\n",
      "r\"C:\\Users\\dtawade\\zfscsv\\newpython.txt\"\n"
     ]
    }
   ],
   "source": [
    "log_file_name = input (\"Enter the log file path and name: \")\n",
    "#constructing file parser variable\n",
    "log_file_path = 'r\"' + log_file_name + '\"'\n",
    "\n",
    "file_name= log_file_path\n",
    "\n",
    "print(file_name)"
   ]
  },
  {
   "cell_type": "code",
   "execution_count": 70,
   "metadata": {},
   "outputs": [
    {
     "name": "stdout",
     "output_type": "stream",
     "text": [
      "Enter the error to search: Broken pipe\n",
      "Broken pipe\n",
      "1\n",
      "Broken pipe\n",
      "2\n"
     ]
    }
   ],
   "source": [
    "log_file_path = r\"C:\\Users\\dtawade\\zfscsv\\newpython\"\n",
    "expression_to_search = input(\"Enter the error to search: \")\n",
    "match_list = []\n",
    "with open(\"%s.txt\" % log_file_path, \"r\") as file:\n",
    "    for line in file:\n",
    "        for match in re.finditer(expression_to_search, line, re.S):\n",
    "            match_text = match.group()\n",
    "            match_list.append(match_text)\n",
    "            print (match_text)\n",
    "            print (match_list.count(expression_to_search))"
   ]
  },
  {
   "cell_type": "code",
   "execution_count": null,
   "metadata": {},
   "outputs": [],
   "source": []
  }
 ],
 "metadata": {
  "kernelspec": {
   "display_name": "Python 3",
   "language": "python",
   "name": "python3"
  },
  "language_info": {
   "codemirror_mode": {
    "name": "ipython",
    "version": 3
   },
   "file_extension": ".py",
   "mimetype": "text/x-python",
   "name": "python",
   "nbconvert_exporter": "python",
   "pygments_lexer": "ipython3",
   "version": "3.6.5"
  }
 },
 "nbformat": 4,
 "nbformat_minor": 2
}
